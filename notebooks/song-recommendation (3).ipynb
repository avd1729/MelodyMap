{
 "cells": [
  {
   "cell_type": "code",
   "execution_count": 1,
   "id": "9fc41580",
   "metadata": {
    "_cell_guid": "b1076dfc-b9ad-4769-8c92-a6c4dae69d19",
    "_uuid": "8f2839f25d086af736a60e9eeb907d3b93b6e0e5",
    "execution": {
     "iopub.execute_input": "2025-02-09T17:10:41.500792Z",
     "iopub.status.busy": "2025-02-09T17:10:41.500427Z",
     "iopub.status.idle": "2025-02-09T17:10:48.434482Z",
     "shell.execute_reply": "2025-02-09T17:10:48.432956Z"
    },
    "papermill": {
     "duration": 6.94382,
     "end_time": "2025-02-09T17:10:48.436809",
     "exception": false,
     "start_time": "2025-02-09T17:10:41.492989",
     "status": "completed"
    },
    "tags": []
   },
   "outputs": [
    {
     "name": "stdout",
     "output_type": "stream",
     "text": [
      "Collecting torch-geometric\r\n",
      "  Downloading torch_geometric-2.6.1-py3-none-any.whl.metadata (63 kB)\r\n",
      "\u001b[2K     \u001b[90m━━━━━━━━━━━━━━━━━━━━━━━━━━━━━━━━━━━━━━━━\u001b[0m \u001b[32m63.1/63.1 kB\u001b[0m \u001b[31m3.4 MB/s\u001b[0m eta \u001b[36m0:00:00\u001b[0m\r\n",
      "\u001b[?25hRequirement already satisfied: aiohttp in /usr/local/lib/python3.10/dist-packages (from torch-geometric) (3.11.10)\r\n",
      "Requirement already satisfied: fsspec in /usr/local/lib/python3.10/dist-packages (from torch-geometric) (2024.9.0)\r\n",
      "Requirement already satisfied: jinja2 in /usr/local/lib/python3.10/dist-packages (from torch-geometric) (3.1.4)\r\n",
      "Requirement already satisfied: numpy in /usr/local/lib/python3.10/dist-packages (from torch-geometric) (1.26.4)\r\n",
      "Requirement already satisfied: psutil>=5.8.0 in /usr/local/lib/python3.10/dist-packages (from torch-geometric) (5.9.5)\r\n",
      "Requirement already satisfied: pyparsing in /usr/local/lib/python3.10/dist-packages (from torch-geometric) (3.2.0)\r\n",
      "Requirement already satisfied: requests in /usr/local/lib/python3.10/dist-packages (from torch-geometric) (2.32.3)\r\n",
      "Requirement already satisfied: tqdm in /usr/local/lib/python3.10/dist-packages (from torch-geometric) (4.67.1)\r\n",
      "Requirement already satisfied: aiohappyeyeballs>=2.3.0 in /usr/local/lib/python3.10/dist-packages (from aiohttp->torch-geometric) (2.4.4)\r\n",
      "Requirement already satisfied: aiosignal>=1.1.2 in /usr/local/lib/python3.10/dist-packages (from aiohttp->torch-geometric) (1.3.2)\r\n",
      "Requirement already satisfied: async-timeout<6.0,>=4.0 in /usr/local/lib/python3.10/dist-packages (from aiohttp->torch-geometric) (4.0.3)\r\n",
      "Requirement already satisfied: attrs>=17.3.0 in /usr/local/lib/python3.10/dist-packages (from aiohttp->torch-geometric) (24.3.0)\r\n",
      "Requirement already satisfied: frozenlist>=1.1.1 in /usr/local/lib/python3.10/dist-packages (from aiohttp->torch-geometric) (1.5.0)\r\n",
      "Requirement already satisfied: multidict<7.0,>=4.5 in /usr/local/lib/python3.10/dist-packages (from aiohttp->torch-geometric) (6.1.0)\r\n",
      "Requirement already satisfied: propcache>=0.2.0 in /usr/local/lib/python3.10/dist-packages (from aiohttp->torch-geometric) (0.2.1)\r\n",
      "Requirement already satisfied: yarl<2.0,>=1.17.0 in /usr/local/lib/python3.10/dist-packages (from aiohttp->torch-geometric) (1.18.3)\r\n",
      "Requirement already satisfied: MarkupSafe>=2.0 in /usr/local/lib/python3.10/dist-packages (from jinja2->torch-geometric) (3.0.2)\r\n",
      "Requirement already satisfied: mkl_fft in /usr/local/lib/python3.10/dist-packages (from numpy->torch-geometric) (1.3.8)\r\n",
      "Requirement already satisfied: mkl_random in /usr/local/lib/python3.10/dist-packages (from numpy->torch-geometric) (1.2.4)\r\n",
      "Requirement already satisfied: mkl_umath in /usr/local/lib/python3.10/dist-packages (from numpy->torch-geometric) (0.1.1)\r\n",
      "Requirement already satisfied: mkl in /usr/local/lib/python3.10/dist-packages (from numpy->torch-geometric) (2025.0.1)\r\n",
      "Requirement already satisfied: tbb4py in /usr/local/lib/python3.10/dist-packages (from numpy->torch-geometric) (2022.0.0)\r\n",
      "Requirement already satisfied: mkl-service in /usr/local/lib/python3.10/dist-packages (from numpy->torch-geometric) (2.4.1)\r\n",
      "Requirement already satisfied: charset-normalizer<4,>=2 in /usr/local/lib/python3.10/dist-packages (from requests->torch-geometric) (3.4.0)\r\n",
      "Requirement already satisfied: idna<4,>=2.5 in /usr/local/lib/python3.10/dist-packages (from requests->torch-geometric) (3.10)\r\n",
      "Requirement already satisfied: urllib3<3,>=1.21.1 in /usr/local/lib/python3.10/dist-packages (from requests->torch-geometric) (2.2.3)\r\n",
      "Requirement already satisfied: certifi>=2017.4.17 in /usr/local/lib/python3.10/dist-packages (from requests->torch-geometric) (2024.12.14)\r\n",
      "Requirement already satisfied: typing-extensions>=4.1.0 in /usr/local/lib/python3.10/dist-packages (from multidict<7.0,>=4.5->aiohttp->torch-geometric) (4.12.2)\r\n",
      "Requirement already satisfied: intel-openmp>=2024 in /usr/local/lib/python3.10/dist-packages (from mkl->numpy->torch-geometric) (2024.2.0)\r\n",
      "Requirement already satisfied: tbb==2022.* in /usr/local/lib/python3.10/dist-packages (from mkl->numpy->torch-geometric) (2022.0.0)\r\n",
      "Requirement already satisfied: tcmlib==1.* in /usr/local/lib/python3.10/dist-packages (from tbb==2022.*->mkl->numpy->torch-geometric) (1.2.0)\r\n",
      "Requirement already satisfied: intel-cmplr-lib-rt in /usr/local/lib/python3.10/dist-packages (from mkl_umath->numpy->torch-geometric) (2024.2.0)\r\n",
      "Requirement already satisfied: intel-cmplr-lib-ur==2024.2.0 in /usr/local/lib/python3.10/dist-packages (from intel-openmp>=2024->mkl->numpy->torch-geometric) (2024.2.0)\r\n",
      "Downloading torch_geometric-2.6.1-py3-none-any.whl (1.1 MB)\r\n",
      "\u001b[2K   \u001b[90m━━━━━━━━━━━━━━━━━━━━━━━━━━━━━━━━━━━━━━━━\u001b[0m \u001b[32m1.1/1.1 MB\u001b[0m \u001b[31m43.0 MB/s\u001b[0m eta \u001b[36m0:00:00\u001b[0m\r\n",
      "\u001b[?25hInstalling collected packages: torch-geometric\r\n",
      "Successfully installed torch-geometric-2.6.1\r\n",
      "Note: you may need to restart the kernel to use updated packages.\n"
     ]
    }
   ],
   "source": [
    "%pip install torch-geometric"
   ]
  },
  {
   "cell_type": "code",
   "execution_count": 2,
   "id": "4ee02a3c",
   "metadata": {
    "execution": {
     "iopub.execute_input": "2025-02-09T17:10:48.453726Z",
     "iopub.status.busy": "2025-02-09T17:10:48.453205Z",
     "iopub.status.idle": "2025-02-09T17:11:01.836487Z",
     "shell.execute_reply": "2025-02-09T17:11:01.835148Z"
    },
    "papermill": {
     "duration": 13.394007,
     "end_time": "2025-02-09T17:11:01.838889",
     "exception": false,
     "start_time": "2025-02-09T17:10:48.444882",
     "status": "completed"
    },
    "tags": []
   },
   "outputs": [],
   "source": [
    "import torch\n",
    "import torch_geometric\n",
    "from torch_geometric.data import Data\n",
    "import pandas as pd\n",
    "import torch.nn.functional as F\n",
    "from torch_geometric.nn import GCNConv\n",
    "from torch.nn import Linear\n",
    "import csv\n",
    "import random"
   ]
  },
  {
   "cell_type": "code",
   "execution_count": 3,
   "id": "a791a84a",
   "metadata": {
    "execution": {
     "iopub.execute_input": "2025-02-09T17:11:01.854092Z",
     "iopub.status.busy": "2025-02-09T17:11:01.853354Z",
     "iopub.status.idle": "2025-02-09T17:11:47.972241Z",
     "shell.execute_reply": "2025-02-09T17:11:47.971052Z"
    },
    "papermill": {
     "duration": 46.128759,
     "end_time": "2025-02-09T17:11:47.974361",
     "exception": false,
     "start_time": "2025-02-09T17:11:01.845602",
     "status": "completed"
    },
    "tags": []
   },
   "outputs": [],
   "source": [
    "# Open the CSV file and process line by line\n",
    "with open('/kaggle/input/spotify-playlist/spotify_dataset.csv', mode='r', encoding='utf-8') as file:\n",
    "    reader = csv.reader(file)\n",
    "    valid_rows = []\n",
    "\n",
    "    # Read all rows and filter only those with exactly 4 columns\n",
    "    all_rows = list(reader)\n",
    "    valid_rows = [row for row in all_rows if len(row) == 4]  # Ensure only rows with 4 columns are kept\n",
    "\n",
    "# Sample a thousandth of the dataset randomly\n",
    "dataset_size = len(valid_rows) // 1000\n",
    "sampled_rows = random.sample(valid_rows, dataset_size)\n",
    "\n",
    "# Convert the sampled rows back to a DataFrame\n",
    "df = pd.DataFrame(sampled_rows, columns=[\"user_id\", \"artistname\", \"trackname\", \"playlistname\"])"
   ]
  },
  {
   "cell_type": "code",
   "execution_count": 4,
   "id": "96e98ce2",
   "metadata": {
    "execution": {
     "iopub.execute_input": "2025-02-09T17:11:47.988432Z",
     "iopub.status.busy": "2025-02-09T17:11:47.988073Z",
     "iopub.status.idle": "2025-02-09T17:11:48.507874Z",
     "shell.execute_reply": "2025-02-09T17:11:48.506744Z"
    },
    "papermill": {
     "duration": 0.528724,
     "end_time": "2025-02-09T17:11:48.509758",
     "exception": false,
     "start_time": "2025-02-09T17:11:47.981034",
     "status": "completed"
    },
    "tags": []
   },
   "outputs": [],
   "source": [
    "# Create mappings for users, tracks, and playlists\n",
    "user_mapping = {user: idx for idx, user in enumerate(df['user_id'].unique())}\n",
    "track_mapping = {track: idx + len(user_mapping) for idx, track in enumerate(df['trackname'].unique())}\n",
    "artist_mapping = {artist: idx + len(user_mapping) + len(track_mapping) for idx, artist in enumerate(df['artistname'].unique())}\n",
    "playlist_mapping = {playlist: idx + len(user_mapping) + len(track_mapping) + len(artist_mapping) for idx, playlist in enumerate(df['playlistname'].unique())}"
   ]
  },
  {
   "cell_type": "code",
   "execution_count": 5,
   "id": "70120849",
   "metadata": {
    "execution": {
     "iopub.execute_input": "2025-02-09T17:11:48.523422Z",
     "iopub.status.busy": "2025-02-09T17:11:48.523088Z",
     "iopub.status.idle": "2025-02-09T17:11:48.583385Z",
     "shell.execute_reply": "2025-02-09T17:11:48.582268Z"
    },
    "papermill": {
     "duration": 0.069382,
     "end_time": "2025-02-09T17:11:48.585447",
     "exception": false,
     "start_time": "2025-02-09T17:11:48.516065",
     "status": "completed"
    },
    "tags": []
   },
   "outputs": [],
   "source": [
    "# Creating the nodes for the graph\n",
    "user_nodes = df['user_id'].map(user_mapping).values\n",
    "track_nodes = df['trackname'].map(track_mapping).values\n",
    "artist_nodes = df['artistname'].map(artist_mapping).values\n",
    "playlist_nodes = df['playlistname'].map(playlist_mapping).values"
   ]
  },
  {
   "cell_type": "code",
   "execution_count": 6,
   "id": "9664a47c",
   "metadata": {
    "execution": {
     "iopub.execute_input": "2025-02-09T17:11:48.599059Z",
     "iopub.status.busy": "2025-02-09T17:11:48.598640Z",
     "iopub.status.idle": "2025-02-09T17:11:48.619184Z",
     "shell.execute_reply": "2025-02-09T17:11:48.617964Z"
    },
    "papermill": {
     "duration": 0.029366,
     "end_time": "2025-02-09T17:11:48.621061",
     "exception": false,
     "start_time": "2025-02-09T17:11:48.591695",
     "status": "completed"
    },
    "tags": []
   },
   "outputs": [
    {
     "name": "stderr",
     "output_type": "stream",
     "text": [
      "<ipython-input-6-347a5e1e99c2>:3: UserWarning: Creating a tensor from a list of numpy.ndarrays is extremely slow. Please consider converting the list to a single numpy.ndarray with numpy.array() before converting to a tensor. (Triggered internally at ../torch/csrc/utils/tensor_new.cpp:278.)\n",
      "  user_to_track_edges = torch.tensor([user_nodes, track_nodes], dtype=torch.long)\n"
     ]
    }
   ],
   "source": [
    "# Create edge_index (i.e., relationships between users, tracks, artists, and playlists)\n",
    "# Edges are bidirectional between user and track, track and artist, track and playlist\n",
    "user_to_track_edges = torch.tensor([user_nodes, track_nodes], dtype=torch.long)\n",
    "track_to_artist_edges = torch.tensor([track_nodes, artist_nodes], dtype=torch.long)\n",
    "track_to_playlist_edges = torch.tensor([track_nodes, playlist_nodes], dtype=torch.long)"
   ]
  },
  {
   "cell_type": "code",
   "execution_count": 7,
   "id": "bca00b02",
   "metadata": {
    "execution": {
     "iopub.execute_input": "2025-02-09T17:11:48.635070Z",
     "iopub.status.busy": "2025-02-09T17:11:48.634657Z",
     "iopub.status.idle": "2025-02-09T17:11:48.665383Z",
     "shell.execute_reply": "2025-02-09T17:11:48.664104Z"
    },
    "papermill": {
     "duration": 0.039899,
     "end_time": "2025-02-09T17:11:48.667439",
     "exception": false,
     "start_time": "2025-02-09T17:11:48.627540",
     "status": "completed"
    },
    "tags": []
   },
   "outputs": [],
   "source": [
    "# Combine all edges\n",
    "edge_index = torch.cat([user_to_track_edges, track_to_artist_edges, track_to_playlist_edges], dim=1)"
   ]
  },
  {
   "cell_type": "code",
   "execution_count": 8,
   "id": "d660d0a3",
   "metadata": {
    "execution": {
     "iopub.execute_input": "2025-02-09T17:11:48.681380Z",
     "iopub.status.busy": "2025-02-09T17:11:48.680994Z",
     "iopub.status.idle": "2025-02-09T17:11:48.702769Z",
     "shell.execute_reply": "2025-02-09T17:11:48.701759Z"
    },
    "papermill": {
     "duration": 0.030767,
     "end_time": "2025-02-09T17:11:48.704621",
     "exception": false,
     "start_time": "2025-02-09T17:11:48.673854",
     "status": "completed"
    },
    "tags": []
   },
   "outputs": [],
   "source": [
    "# Create node features (random features here; you can use specific features like genre, track length, etc.)\n",
    "num_nodes = len(user_mapping) + len(track_mapping) + len(artist_mapping) + len(playlist_mapping)\n",
    "num_features = 32  # Can be adjusted\n",
    "node_features = torch.randn(num_nodes, num_features)"
   ]
  },
  {
   "cell_type": "code",
   "execution_count": 9,
   "id": "aa439ba4",
   "metadata": {
    "execution": {
     "iopub.execute_input": "2025-02-09T17:11:48.718812Z",
     "iopub.status.busy": "2025-02-09T17:11:48.718447Z",
     "iopub.status.idle": "2025-02-09T17:11:48.726949Z",
     "shell.execute_reply": "2025-02-09T17:11:48.725987Z"
    },
    "papermill": {
     "duration": 0.017756,
     "end_time": "2025-02-09T17:11:48.728684",
     "exception": false,
     "start_time": "2025-02-09T17:11:48.710928",
     "status": "completed"
    },
    "tags": []
   },
   "outputs": [],
   "source": [
    "# Build the target ratings or interactions for training (could be interaction count or binary like/dislike)\n",
    "# Here, we are assuming interaction as edge weights, which could be 1 for presence of edge\n",
    "edge_weights = torch.ones(edge_index.shape[1], dtype=torch.float)\n",
    "\n",
    "# Create Data object\n",
    "data = Data(x=node_features, edge_index=edge_index, edge_attr=edge_weights)"
   ]
  },
  {
   "cell_type": "code",
   "execution_count": 10,
   "id": "89a56113",
   "metadata": {
    "execution": {
     "iopub.execute_input": "2025-02-09T17:11:48.742874Z",
     "iopub.status.busy": "2025-02-09T17:11:48.742484Z",
     "iopub.status.idle": "2025-02-09T17:11:48.749146Z",
     "shell.execute_reply": "2025-02-09T17:11:48.747928Z"
    },
    "papermill": {
     "duration": 0.01578,
     "end_time": "2025-02-09T17:11:48.751067",
     "exception": false,
     "start_time": "2025-02-09T17:11:48.735287",
     "status": "completed"
    },
    "tags": []
   },
   "outputs": [],
   "source": [
    "# Define the GNN model using Graph Convolutional Network (GCN)\n",
    "class GNNModel(torch.nn.Module):\n",
    "    def __init__(self, num_features, hidden_channels):\n",
    "        super(GNNModel, self).__init__()\n",
    "        self.conv1 = GCNConv(num_features, hidden_channels)\n",
    "        self.conv2 = GCNConv(hidden_channels, hidden_channels)\n",
    "        self.linear = Linear(hidden_channels, 1)\n",
    "    \n",
    "    def forward(self, x, edge_index, edge_attr):\n",
    "        # Apply first graph convolution layer\n",
    "        x = self.conv1(x, edge_index)\n",
    "        x = F.relu(x)\n",
    "        x = F.dropout(x, p=0.5, training=self.training)\n",
    "\n",
    "        # Apply second graph convolution layer\n",
    "        x = self.conv2(x, edge_index)\n",
    "        x = F.relu(x)\n",
    "\n",
    "        # Predict ratings or recommendation score\n",
    "        x = self.linear(x)\n",
    "        return x"
   ]
  },
  {
   "cell_type": "code",
   "execution_count": 11,
   "id": "32deabc0",
   "metadata": {
    "execution": {
     "iopub.execute_input": "2025-02-09T17:11:48.766089Z",
     "iopub.status.busy": "2025-02-09T17:11:48.765591Z",
     "iopub.status.idle": "2025-02-09T17:11:48.772365Z",
     "shell.execute_reply": "2025-02-09T17:11:48.771017Z"
    },
    "papermill": {
     "duration": 0.017327,
     "end_time": "2025-02-09T17:11:48.774580",
     "exception": false,
     "start_time": "2025-02-09T17:11:48.757253",
     "status": "completed"
    },
    "tags": []
   },
   "outputs": [],
   "source": [
    "# Training function\n",
    "def train_model(model, data, epochs=50):\n",
    "    optimizer = torch.optim.Adam(model.parameters(), lr=0.01)\n",
    "    model.train()\n",
    "    \n",
    "    for epoch in range(epochs):\n",
    "        optimizer.zero_grad()\n",
    "        out = model(data.x, data.edge_index, data.edge_attr)\n",
    "        \n",
    "        # For simplicity, we use Mean Squared Error loss\n",
    "        loss = F.mse_loss(out[data.edge_index[0]], data.edge_attr)\n",
    "        loss.backward()\n",
    "        optimizer.step()\n",
    "        \n",
    "        if (epoch + 1) % 10 == 0:\n",
    "            print(f'Epoch {epoch+1:03d}, Loss: {loss:.4f}')"
   ]
  },
  {
   "cell_type": "code",
   "execution_count": 12,
   "id": "8b568d85",
   "metadata": {
    "execution": {
     "iopub.execute_input": "2025-02-09T17:11:48.789972Z",
     "iopub.status.busy": "2025-02-09T17:11:48.789470Z",
     "iopub.status.idle": "2025-02-09T17:11:48.796867Z",
     "shell.execute_reply": "2025-02-09T17:11:48.795393Z"
    },
    "papermill": {
     "duration": 0.017415,
     "end_time": "2025-02-09T17:11:48.798988",
     "exception": false,
     "start_time": "2025-02-09T17:11:48.781573",
     "status": "completed"
    },
    "tags": []
   },
   "outputs": [],
   "source": [
    "# Making recommendations for a user\n",
    "def get_recommendations(model, data, user_idx, top_k=5):\n",
    "    model.eval()\n",
    "    with torch.no_grad():\n",
    "        embeddings = model.conv2(\n",
    "            model.conv1(data.x, data.edge_index, data.edge_attr),\n",
    "            data.edge_index\n",
    "        )\n",
    "        \n",
    "        # Get the user embedding\n",
    "        user_embedding = embeddings[user_idx]\n",
    "        \n",
    "        # Get track embeddings\n",
    "        track_indices = torch.tensor(list(track_mapping.values()))\n",
    "        track_embeddings = embeddings[track_indices]\n",
    "        \n",
    "        # Calculate similarity between user embedding and track embeddings\n",
    "        similarity = F.cosine_similarity(user_embedding.unsqueeze(0), track_embeddings)\n",
    "        \n",
    "        # Get top-k most similar tracks\n",
    "        top_k_indices = similarity.argsort(descending=True)[:top_k]\n",
    "        \n",
    "        recommended_tracks = [list(track_mapping.keys())[idx] for idx in top_k_indices]\n",
    "        return recommended_tracks"
   ]
  },
  {
   "cell_type": "code",
   "execution_count": 13,
   "id": "16075fc6",
   "metadata": {
    "execution": {
     "iopub.execute_input": "2025-02-09T17:11:48.814259Z",
     "iopub.status.busy": "2025-02-09T17:11:48.813706Z",
     "iopub.status.idle": "2025-02-09T17:18:31.087504Z",
     "shell.execute_reply": "2025-02-09T17:18:31.085414Z"
    },
    "papermill": {
     "duration": 402.288297,
     "end_time": "2025-02-09T17:18:31.094375",
     "exception": false,
     "start_time": "2025-02-09T17:11:48.806078",
     "status": "completed"
    },
    "tags": []
   },
   "outputs": [
    {
     "name": "stderr",
     "output_type": "stream",
     "text": [
      "<ipython-input-11-78b5943b0146>:11: UserWarning: Using a target size (torch.Size([38670])) that is different to the input size (torch.Size([38670, 1])). This will likely lead to incorrect results due to broadcasting. Please ensure they have the same size.\n",
      "  loss = F.mse_loss(out[data.edge_index[0]], data.edge_attr)\n"
     ]
    },
    {
     "name": "stdout",
     "output_type": "stream",
     "text": [
      "Epoch 010, Loss: 0.2122\n",
      "Epoch 020, Loss: 0.1037\n",
      "Epoch 030, Loss: 0.0567\n",
      "Epoch 040, Loss: 0.0397\n",
      "Epoch 050, Loss: 0.0299\n"
     ]
    }
   ],
   "source": [
    "# Initialize model\n",
    "model = GNNModel(num_features=num_features, hidden_channels=64)\n",
    "# Train the model\n",
    "train_model(model, data)"
   ]
  },
  {
   "cell_type": "code",
   "execution_count": 14,
   "id": "c65a8694",
   "metadata": {
    "execution": {
     "iopub.execute_input": "2025-02-09T17:18:31.110565Z",
     "iopub.status.busy": "2025-02-09T17:18:31.110161Z",
     "iopub.status.idle": "2025-02-09T17:18:31.121334Z",
     "shell.execute_reply": "2025-02-09T17:18:31.120388Z"
    },
    "papermill": {
     "duration": 0.021744,
     "end_time": "2025-02-09T17:18:31.123146",
     "exception": false,
     "start_time": "2025-02-09T17:18:31.101402",
     "status": "completed"
    },
    "tags": []
   },
   "outputs": [],
   "source": [
    "torch.save(model, \"song_recommender.pth\")"
   ]
  },
  {
   "cell_type": "code",
   "execution_count": 15,
   "id": "2b2f6707",
   "metadata": {
    "execution": {
     "iopub.execute_input": "2025-02-09T17:18:31.137756Z",
     "iopub.status.busy": "2025-02-09T17:18:31.137378Z",
     "iopub.status.idle": "2025-02-09T17:18:31.226929Z",
     "shell.execute_reply": "2025-02-09T17:18:31.225657Z"
    },
    "papermill": {
     "duration": 0.099047,
     "end_time": "2025-02-09T17:18:31.228779",
     "exception": false,
     "start_time": "2025-02-09T17:18:31.129732",
     "status": "completed"
    },
    "tags": []
   },
   "outputs": [
    {
     "name": "stdout",
     "output_type": "stream",
     "text": [
      "<class 'pandas.core.frame.DataFrame'>\n",
      "RangeIndex: 12890 entries, 0 to 12889\n",
      "Data columns (total 4 columns):\n",
      " #   Column        Non-Null Count  Dtype \n",
      "---  ------        --------------  ----- \n",
      " 0   user_id       12890 non-null  object\n",
      " 1   artistname    12890 non-null  object\n",
      " 2   trackname     12890 non-null  object\n",
      " 3   playlistname  12890 non-null  object\n",
      "dtypes: object(4)\n",
      "memory usage: 402.9+ KB\n"
     ]
    }
   ],
   "source": [
    "df.info()"
   ]
  },
  {
   "cell_type": "code",
   "execution_count": 16,
   "id": "6f8bd794",
   "metadata": {
    "execution": {
     "iopub.execute_input": "2025-02-09T17:18:31.243998Z",
     "iopub.status.busy": "2025-02-09T17:18:31.243502Z",
     "iopub.status.idle": "2025-02-09T17:18:31.266028Z",
     "shell.execute_reply": "2025-02-09T17:18:31.264946Z"
    },
    "papermill": {
     "duration": 0.032326,
     "end_time": "2025-02-09T17:18:31.267886",
     "exception": false,
     "start_time": "2025-02-09T17:18:31.235560",
     "status": "completed"
    },
    "tags": []
   },
   "outputs": [
    {
     "data": {
      "text/html": [
       "<div>\n",
       "<style scoped>\n",
       "    .dataframe tbody tr th:only-of-type {\n",
       "        vertical-align: middle;\n",
       "    }\n",
       "\n",
       "    .dataframe tbody tr th {\n",
       "        vertical-align: top;\n",
       "    }\n",
       "\n",
       "    .dataframe thead th {\n",
       "        text-align: right;\n",
       "    }\n",
       "</style>\n",
       "<table border=\"1\" class=\"dataframe\">\n",
       "  <thead>\n",
       "    <tr style=\"text-align: right;\">\n",
       "      <th></th>\n",
       "      <th>user_id</th>\n",
       "      <th>artistname</th>\n",
       "      <th>trackname</th>\n",
       "      <th>playlistname</th>\n",
       "    </tr>\n",
       "  </thead>\n",
       "  <tbody>\n",
       "    <tr>\n",
       "      <th>0</th>\n",
       "      <td>c8a09fa0a90b94ac688923535315c4d9</td>\n",
       "      <td>Chicane feat Salt Tank</td>\n",
       "      <td>Leaving Town</td>\n",
       "      <td>Chill Out on Soundrop</td>\n",
       "    </tr>\n",
       "    <tr>\n",
       "      <th>1</th>\n",
       "      <td>c190f4de86d8621b5cc345f9c6d97f31</td>\n",
       "      <td>Vertical Church Band</td>\n",
       "      <td>I Will Follow</td>\n",
       "      <td>Worship</td>\n",
       "    </tr>\n",
       "    <tr>\n",
       "      <th>2</th>\n",
       "      <td>4398de6902abde3351347b048fcdc287</td>\n",
       "      <td>Middle Class Fashion</td>\n",
       "      <td>Perfect Person</td>\n",
       "      <td>Library &amp; Streams (Part 19)</td>\n",
       "    </tr>\n",
       "    <tr>\n",
       "      <th>3</th>\n",
       "      <td>f2953b6092b4247c65ccba23dc993f43</td>\n",
       "      <td>Band of Horses</td>\n",
       "      <td>Long Vows</td>\n",
       "      <td>Starred</td>\n",
       "    </tr>\n",
       "    <tr>\n",
       "      <th>4</th>\n",
       "      <td>b358a18274eb1e8ecc8e731ff348c268</td>\n",
       "      <td>Tosca</td>\n",
       "      <td>Heidi Brühl</td>\n",
       "      <td>Hotel Costes</td>\n",
       "    </tr>\n",
       "  </tbody>\n",
       "</table>\n",
       "</div>"
      ],
      "text/plain": [
       "                            user_id              artistname       trackname  \\\n",
       "0  c8a09fa0a90b94ac688923535315c4d9  Chicane feat Salt Tank    Leaving Town   \n",
       "1  c190f4de86d8621b5cc345f9c6d97f31    Vertical Church Band   I Will Follow   \n",
       "2  4398de6902abde3351347b048fcdc287    Middle Class Fashion  Perfect Person   \n",
       "3  f2953b6092b4247c65ccba23dc993f43          Band of Horses       Long Vows   \n",
       "4  b358a18274eb1e8ecc8e731ff348c268                   Tosca     Heidi Brühl   \n",
       "\n",
       "                  playlistname  \n",
       "0        Chill Out on Soundrop  \n",
       "1                      Worship  \n",
       "2  Library & Streams (Part 19)  \n",
       "3                      Starred  \n",
       "4                 Hotel Costes  "
      ]
     },
     "execution_count": 16,
     "metadata": {},
     "output_type": "execute_result"
    }
   ],
   "source": [
    "df.head()"
   ]
  },
  {
   "cell_type": "code",
   "execution_count": 17,
   "id": "08e6320c",
   "metadata": {
    "execution": {
     "iopub.execute_input": "2025-02-09T17:18:31.283683Z",
     "iopub.status.busy": "2025-02-09T17:18:31.283316Z",
     "iopub.status.idle": "2025-02-09T17:18:31.356578Z",
     "shell.execute_reply": "2025-02-09T17:18:31.355129Z"
    },
    "papermill": {
     "duration": 0.083207,
     "end_time": "2025-02-09T17:18:31.358620",
     "exception": false,
     "start_time": "2025-02-09T17:18:31.275413",
     "status": "completed"
    },
    "tags": []
   },
   "outputs": [
    {
     "name": "stdout",
     "output_type": "stream",
     "text": [
      "Recommended tracks for user 11da254d9d1948488318e3ea286bf484: [\"Livin' Is Easy\", 'Away We Go', 'Undertro', 'Woman', 'To Walk Alone']\n"
     ]
    }
   ],
   "source": [
    "user_id = '11da254d9d1948488318e3ea286bf484'  # Example user_id\n",
    "user_idx = user_mapping.get(user_id)\n",
    "if user_idx is not None:\n",
    "    recommended_tracks = get_recommendations(model, data, user_idx)\n",
    "    print(f\"Recommended tracks for user {user_id}: {recommended_tracks}\")\n",
    "else:\n",
    "    print(f\"User {user_id} not found.\")"
   ]
  },
  {
   "cell_type": "code",
   "execution_count": 18,
   "id": "684462bf",
   "metadata": {
    "execution": {
     "iopub.execute_input": "2025-02-09T17:18:31.373732Z",
     "iopub.status.busy": "2025-02-09T17:18:31.373399Z",
     "iopub.status.idle": "2025-02-09T17:18:31.384530Z",
     "shell.execute_reply": "2025-02-09T17:18:31.383252Z"
    },
    "papermill": {
     "duration": 0.020571,
     "end_time": "2025-02-09T17:18:31.386280",
     "exception": false,
     "start_time": "2025-02-09T17:18:31.365709",
     "status": "completed"
    },
    "tags": []
   },
   "outputs": [
    {
     "name": "stderr",
     "output_type": "stream",
     "text": [
      "<ipython-input-18-3bd102571965>:1: FutureWarning: You are using `torch.load` with `weights_only=False` (the current default value), which uses the default pickle module implicitly. It is possible to construct malicious pickle data which will execute arbitrary code during unpickling (See https://github.com/pytorch/pytorch/blob/main/SECURITY.md#untrusted-models for more details). In a future release, the default value for `weights_only` will be flipped to `True`. This limits the functions that could be executed during unpickling. Arbitrary objects will no longer be allowed to be loaded via this mode unless they are explicitly allowlisted by the user via `torch.serialization.add_safe_globals`. We recommend you start setting `weights_only=True` for any use case where you don't have full control of the loaded file. Please open an issue on GitHub for any issues related to this experimental feature.\n",
      "  loaded_model = torch.load(\"/kaggle/working/song_recommender.pth\")\n"
     ]
    },
    {
     "data": {
      "text/plain": [
       "GNNModel(\n",
       "  (conv1): GCNConv(32, 64)\n",
       "  (conv2): GCNConv(64, 64)\n",
       "  (linear): Linear(in_features=64, out_features=1, bias=True)\n",
       ")"
      ]
     },
     "execution_count": 18,
     "metadata": {},
     "output_type": "execute_result"
    }
   ],
   "source": [
    "loaded_model = torch.load(\"/kaggle/working/song_recommender.pth\")\n",
    "loaded_model.eval()"
   ]
  },
  {
   "cell_type": "code",
   "execution_count": 19,
   "id": "d7178869",
   "metadata": {
    "execution": {
     "iopub.execute_input": "2025-02-09T17:18:31.401559Z",
     "iopub.status.busy": "2025-02-09T17:18:31.401190Z",
     "iopub.status.idle": "2025-02-09T17:18:31.472539Z",
     "shell.execute_reply": "2025-02-09T17:18:31.471284Z"
    },
    "papermill": {
     "duration": 0.080883,
     "end_time": "2025-02-09T17:18:31.474230",
     "exception": false,
     "start_time": "2025-02-09T17:18:31.393347",
     "status": "completed"
    },
    "tags": []
   },
   "outputs": [
    {
     "name": "stdout",
     "output_type": "stream",
     "text": [
      "Recommended tracks for user 11da254d9d1948488318e3ea286bf484: [\"Livin' Is Easy\", 'Away We Go', 'Undertro', 'Woman', 'To Walk Alone']\n"
     ]
    }
   ],
   "source": [
    "user_id = '11da254d9d1948488318e3ea286bf484'  # Example user_id\n",
    "user_idx = user_mapping.get(user_id)\n",
    "if user_idx is not None:\n",
    "    recommended_tracks = get_recommendations(loaded_model, data, user_idx)\n",
    "    print(f\"Recommended tracks for user {user_id}: {recommended_tracks}\")\n",
    "else:\n",
    "    print(f\"User {user_id} not found.\")"
   ]
  },
  {
   "cell_type": "code",
   "execution_count": 20,
   "id": "8fd2bc21",
   "metadata": {
    "execution": {
     "iopub.execute_input": "2025-02-09T17:18:31.489589Z",
     "iopub.status.busy": "2025-02-09T17:18:31.489244Z",
     "iopub.status.idle": "2025-02-09T17:18:37.649992Z",
     "shell.execute_reply": "2025-02-09T17:18:37.647997Z"
    },
    "papermill": {
     "duration": 6.171314,
     "end_time": "2025-02-09T17:18:37.652634",
     "exception": false,
     "start_time": "2025-02-09T17:18:31.481320",
     "status": "completed"
    },
    "tags": []
   },
   "outputs": [
    {
     "name": "stdout",
     "output_type": "stream",
     "text": [
      "Collecting torchviz\r\n",
      "  Downloading torchviz-0.0.3-py3-none-any.whl.metadata (2.1 kB)\r\n",
      "Requirement already satisfied: torch in /usr/local/lib/python3.10/dist-packages (from torchviz) (2.5.1+cu121)\r\n",
      "Requirement already satisfied: graphviz in /usr/local/lib/python3.10/dist-packages (from torchviz) (0.20.3)\r\n",
      "Requirement already satisfied: filelock in /usr/local/lib/python3.10/dist-packages (from torch->torchviz) (3.16.1)\r\n",
      "Requirement already satisfied: typing-extensions>=4.8.0 in /usr/local/lib/python3.10/dist-packages (from torch->torchviz) (4.12.2)\r\n",
      "Requirement already satisfied: networkx in /usr/local/lib/python3.10/dist-packages (from torch->torchviz) (3.4.2)\r\n",
      "Requirement already satisfied: jinja2 in /usr/local/lib/python3.10/dist-packages (from torch->torchviz) (3.1.4)\r\n",
      "Requirement already satisfied: fsspec in /usr/local/lib/python3.10/dist-packages (from torch->torchviz) (2024.9.0)\r\n",
      "Requirement already satisfied: sympy==1.13.1 in /usr/local/lib/python3.10/dist-packages (from torch->torchviz) (1.13.1)\r\n",
      "Requirement already satisfied: mpmath<1.4,>=1.1.0 in /usr/local/lib/python3.10/dist-packages (from sympy==1.13.1->torch->torchviz) (1.3.0)\r\n",
      "Requirement already satisfied: MarkupSafe>=2.0 in /usr/local/lib/python3.10/dist-packages (from jinja2->torch->torchviz) (3.0.2)\r\n",
      "Downloading torchviz-0.0.3-py3-none-any.whl (5.7 kB)\r\n",
      "Installing collected packages: torchviz\r\n",
      "Successfully installed torchviz-0.0.3\r\n",
      "Note: you may need to restart the kernel to use updated packages.\n"
     ]
    }
   ],
   "source": [
    "%pip install torchviz"
   ]
  },
  {
   "cell_type": "code",
   "execution_count": 21,
   "id": "69bd4240",
   "metadata": {
    "execution": {
     "iopub.execute_input": "2025-02-09T17:18:37.671811Z",
     "iopub.status.busy": "2025-02-09T17:18:37.671403Z",
     "iopub.status.idle": "2025-02-09T17:18:38.197800Z",
     "shell.execute_reply": "2025-02-09T17:18:38.196623Z"
    },
    "papermill": {
     "duration": 0.537669,
     "end_time": "2025-02-09T17:18:38.199590",
     "exception": false,
     "start_time": "2025-02-09T17:18:37.661921",
     "status": "completed"
    },
    "tags": []
   },
   "outputs": [
    {
     "data": {
      "text/plain": [
       "'gnn_computation_graph.png'"
      ]
     },
     "execution_count": 21,
     "metadata": {},
     "output_type": "execute_result"
    }
   ],
   "source": [
    "from torchviz import make_dot\n",
    "\n",
    "# Example forward pass to generate the computation graph\n",
    "sample_output = model(data.x, data.edge_index, data.edge_attr)\n",
    "dot_graph = make_dot(sample_output, params=dict(model.named_parameters()))\n",
    "\n",
    "# Save the graph to a file\n",
    "dot_graph.render(\"gnn_computation_graph\", format=\"png\")"
   ]
  },
  {
   "cell_type": "code",
   "execution_count": 22,
   "id": "e81e3d16",
   "metadata": {
    "execution": {
     "iopub.execute_input": "2025-02-09T17:18:38.217256Z",
     "iopub.status.busy": "2025-02-09T17:18:38.216851Z",
     "iopub.status.idle": "2025-02-09T17:18:38.228957Z",
     "shell.execute_reply": "2025-02-09T17:18:38.227636Z"
    },
    "papermill": {
     "duration": 0.023381,
     "end_time": "2025-02-09T17:18:38.231013",
     "exception": false,
     "start_time": "2025-02-09T17:18:38.207632",
     "status": "completed"
    },
    "tags": []
   },
   "outputs": [],
   "source": [
    "import torch\n",
    "import torch.nn.functional as F\n",
    "from torch.nn import Linear\n",
    "from torch_geometric.nn import GCNConv, GATConv, SAGEConv\n",
    "\n",
    "# GCN Model\n",
    "class GCNModel(torch.nn.Module):\n",
    "    def __init__(self, num_features, hidden_channels):\n",
    "        super(GCNModel, self).__init__()\n",
    "        self.conv1 = GCNConv(num_features, hidden_channels)\n",
    "        self.conv2 = GCNConv(hidden_channels, hidden_channels)\n",
    "        self.linear = Linear(hidden_channels, 1)\n",
    "    \n",
    "    def forward(self, x, edge_index, edge_attr=None):\n",
    "        x = self.conv1(x, edge_index)\n",
    "        x = F.relu(x)\n",
    "        x = F.dropout(x, p=0.5, training=self.training)\n",
    "        x = self.conv2(x, edge_index)\n",
    "        x = F.relu(x)\n",
    "        x = self.linear(x)\n",
    "        return x\n",
    "\n",
    "\n",
    "# GAT Model\n",
    "class GATModel(torch.nn.Module):\n",
    "    def __init__(self, num_features, hidden_channels, heads=1):\n",
    "        super(GATModel, self).__init__()\n",
    "        self.conv1 = GATConv(num_features, hidden_channels, heads=heads)\n",
    "        self.conv2 = GATConv(hidden_channels * heads, hidden_channels, heads=heads)\n",
    "        self.linear = Linear(hidden_channels * heads, 1)\n",
    "    \n",
    "    def forward(self, x, edge_index, edge_attr=None):\n",
    "        x = self.conv1(x, edge_index)\n",
    "        x = F.relu(x)\n",
    "        x = F.dropout(x, p=0.5, training=self.training)\n",
    "        x = self.conv2(x, edge_index)\n",
    "        x = F.relu(x)\n",
    "        x = self.linear(x)\n",
    "        return x\n",
    "\n",
    "\n",
    "# GraphSAGE Model\n",
    "class GraphSAGEModel(torch.nn.Module):\n",
    "    def __init__(self, num_features, hidden_channels):\n",
    "        super(GraphSAGEModel, self).__init__()\n",
    "        self.conv1 = SAGEConv(num_features, hidden_channels)\n",
    "        self.conv2 = SAGEConv(hidden_channels, hidden_channels)\n",
    "        self.linear = Linear(hidden_channels, 1)\n",
    "    \n",
    "    def forward(self, x, edge_index, edge_attr=None):\n",
    "        x = self.conv1(x, edge_index)\n",
    "        x = F.relu(x)\n",
    "        x = F.dropout(x, p=0.5, training=self.training)\n",
    "        x = self.conv2(x, edge_index)\n",
    "        x = F.relu(x)\n",
    "        x = self.linear(x)\n",
    "        return x\n"
   ]
  },
  {
   "cell_type": "code",
   "execution_count": 23,
   "id": "a1e6f681",
   "metadata": {
    "execution": {
     "iopub.execute_input": "2025-02-09T17:18:38.248963Z",
     "iopub.status.busy": "2025-02-09T17:18:38.248554Z",
     "iopub.status.idle": "2025-02-09T17:18:38.254999Z",
     "shell.execute_reply": "2025-02-09T17:18:38.253729Z"
    },
    "papermill": {
     "duration": 0.017605,
     "end_time": "2025-02-09T17:18:38.256897",
     "exception": false,
     "start_time": "2025-02-09T17:18:38.239292",
     "status": "completed"
    },
    "tags": []
   },
   "outputs": [],
   "source": [
    "def train_model(model, data, epochs=50):\n",
    "    optimizer = torch.optim.Adam(model.parameters(), lr=0.01)\n",
    "    model.train()\n",
    "    \n",
    "    for epoch in range(epochs):\n",
    "        optimizer.zero_grad()\n",
    "        out = model(data.x, data.edge_index)\n",
    "        loss = F.mse_loss(out[data.edge_index[0]], data.edge_attr)\n",
    "        loss.backward()\n",
    "        optimizer.step()\n",
    "        \n",
    "        if (epoch + 1) % 10 == 0:\n",
    "            print(f'Epoch {epoch+1:03d}, Loss: {loss:.4f}')\n"
   ]
  },
  {
   "cell_type": "code",
   "execution_count": 24,
   "id": "d9e21ce3",
   "metadata": {
    "execution": {
     "iopub.execute_input": "2025-02-09T17:18:38.273615Z",
     "iopub.status.busy": "2025-02-09T17:18:38.273268Z",
     "iopub.status.idle": "2025-02-09T17:18:38.279449Z",
     "shell.execute_reply": "2025-02-09T17:18:38.278275Z"
    },
    "papermill": {
     "duration": 0.016665,
     "end_time": "2025-02-09T17:18:38.281358",
     "exception": false,
     "start_time": "2025-02-09T17:18:38.264693",
     "status": "completed"
    },
    "tags": []
   },
   "outputs": [],
   "source": [
    "def get_recommendations(model, data, user_idx, top_k=5):\n",
    "    model.eval()\n",
    "    with torch.no_grad():\n",
    "        embeddings = model.conv2(model.conv1(data.x, data.edge_index))\n",
    "        user_embedding = embeddings[user_idx]\n",
    "\n",
    "        track_indices = torch.tensor(list(track_mapping.values()))\n",
    "        track_embeddings = embeddings[track_indices]\n",
    "\n",
    "        similarity = F.cosine_similarity(user_embedding.unsqueeze(0), track_embeddings)\n",
    "        top_k_indices = similarity.argsort(descending=True)[:top_k]\n",
    "\n",
    "        recommended_tracks = [list(track_mapping.keys())[idx] for idx in top_k_indices]\n",
    "        return recommended_tracks\n"
   ]
  },
  {
   "cell_type": "code",
   "execution_count": 25,
   "id": "867b7a3f",
   "metadata": {
    "execution": {
     "iopub.execute_input": "2025-02-09T17:18:38.298593Z",
     "iopub.status.busy": "2025-02-09T17:18:38.298185Z",
     "iopub.status.idle": "2025-02-09T17:37:59.584650Z",
     "shell.execute_reply": "2025-02-09T17:37:59.583367Z"
    },
    "papermill": {
     "duration": 1161.30701,
     "end_time": "2025-02-09T17:37:59.596127",
     "exception": false,
     "start_time": "2025-02-09T17:18:38.289117",
     "status": "completed"
    },
    "tags": []
   },
   "outputs": [
    {
     "name": "stdout",
     "output_type": "stream",
     "text": [
      "\n",
      "Training GCN model...\n"
     ]
    },
    {
     "name": "stderr",
     "output_type": "stream",
     "text": [
      "<ipython-input-23-3ec5a1bd95de>:8: UserWarning: Using a target size (torch.Size([38670])) that is different to the input size (torch.Size([38670, 1])). This will likely lead to incorrect results due to broadcasting. Please ensure they have the same size.\n",
      "  loss = F.mse_loss(out[data.edge_index[0]], data.edge_attr)\n"
     ]
    },
    {
     "name": "stdout",
     "output_type": "stream",
     "text": [
      "Epoch 010, Loss: 0.1976\n",
      "Epoch 020, Loss: 0.1058\n",
      "Epoch 030, Loss: 0.0713\n",
      "Epoch 040, Loss: 0.0492\n",
      "Epoch 050, Loss: 0.0328\n",
      "\n",
      "Training GAT model...\n",
      "Epoch 010, Loss: 0.1404\n",
      "Epoch 020, Loss: 0.0788\n",
      "Epoch 030, Loss: 0.0480\n",
      "Epoch 040, Loss: 0.0292\n",
      "Epoch 050, Loss: 0.0181\n",
      "\n",
      "Training GraphSAGE model...\n",
      "Epoch 010, Loss: 0.0661\n",
      "Epoch 020, Loss: 0.0336\n",
      "Epoch 030, Loss: 0.0148\n",
      "Epoch 040, Loss: 0.0064\n",
      "Epoch 050, Loss: 0.0028\n"
     ]
    }
   ],
   "source": [
    "num_features = data.num_features\n",
    "hidden_channels = 16\n",
    "\n",
    "models = {\n",
    "    \"GCN\": GCNModel(num_features, hidden_channels),\n",
    "    \"GAT\": GATModel(num_features, hidden_channels),\n",
    "    \"GraphSAGE\": GraphSAGEModel(num_features, hidden_channels),\n",
    "}\n",
    "\n",
    "for name, model in models.items():\n",
    "    print(f\"\\nTraining {name} model...\")\n",
    "    train_model(model, data)\n"
   ]
  }
 ],
 "metadata": {
  "kaggle": {
   "accelerator": "none",
   "dataSources": [
    {
     "datasetId": 903533,
     "sourceId": 1532334,
     "sourceType": "datasetVersion"
    }
   ],
   "dockerImageVersionId": 30839,
   "isGpuEnabled": false,
   "isInternetEnabled": true,
   "language": "python",
   "sourceType": "notebook"
  },
  "kernelspec": {
   "display_name": "Python 3",
   "language": "python",
   "name": "python3"
  },
  "language_info": {
   "codemirror_mode": {
    "name": "ipython",
    "version": 3
   },
   "file_extension": ".py",
   "mimetype": "text/x-python",
   "name": "python",
   "nbconvert_exporter": "python",
   "pygments_lexer": "ipython3",
   "version": "3.10.12"
  },
  "papermill": {
   "default_parameters": {},
   "duration": 1644.351419,
   "end_time": "2025-02-09T17:38:02.631532",
   "environment_variables": {},
   "exception": null,
   "input_path": "__notebook__.ipynb",
   "output_path": "__notebook__.ipynb",
   "parameters": {},
   "start_time": "2025-02-09T17:10:38.280113",
   "version": "2.6.0"
  }
 },
 "nbformat": 4,
 "nbformat_minor": 5
}
